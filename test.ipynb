{
 "cells": [
  {
   "cell_type": "code",
   "execution_count": 37,
   "metadata": {},
   "outputs": [],
   "source": [
    "from pandas import DataFrame\n",
    "from json import loads\n",
    "from requests import get, post\n"
   ]
  },
  {
   "cell_type": "code",
   "execution_count": 35,
   "metadata": {},
   "outputs": [],
   "source": [
    "def get_credentials()->dict[str, str]:\n",
    "    with open(\"credentials.json\") as cfile:\n",
    "        credentials = loads(cfile.read())\n",
    "    return credentials"
   ]
  },
  {
   "cell_type": "code",
   "execution_count": 61,
   "metadata": {},
   "outputs": [],
   "source": [
    "sat_credentials = get_credentials()"
   ]
  },
  {
   "cell_type": "code",
   "execution_count": 90,
   "metadata": {},
   "outputs": [],
   "source": [
    "prod_api_url = \"https://api.satws.com\"\n",
    "test_api_url = \"https://api.sandbox.satws.com\"\n",
    "path_type = \"credetials\"\n",
    "prod_api_key = \"3a5faf1c2155c2ded9ca82aafa1bfa49\"\n",
    "test_api_key = \"4e42092fd7c079c612f2942e8d1d15ad\"\n",
    "id_client = \"9852142f-6a9e-4313-8eb9-20110fe33101\"\n",
    "\n",
    "headers = {\n",
    "    \"X-API-Key\": prod_api_url,\n",
    "    #\"Content-Type\": \"application/json\"\n",
    "}\n",
    "\n",
    "data = sat_credentials[\"rolando\"]\n"
   ]
  },
  {
   "cell_type": "code",
   "execution_count": null,
   "metadata": {},
   "outputs": [],
   "source": [
    "{\n",
    "    '@context': '/contexts/Entrypoint',\n",
    "    '@id': '/',\n",
    "    '@type': 'Entrypoint',\n",
    "    'certificate': '/certificates',\n",
    "    'credential': '/credentials',\n",
    "    'event': '/events',\n",
    "    'export': '/exports',\n",
    "    'extraction': '/extractions',\n",
    "    'invoice': '/invoices/issued',\n",
    "    'invoiceBatchPayment': '/invoices/batch-payments',\n",
    "    'invoiceCreditNote': '/invoices/credit-notes',\n",
    "    'invoicePayment': '/invoices/payments',\n",
    "    'link': '/links',\n",
    "    'organization': '/organizations',\n",
    "    'scheduler': '/schedulers',\n",
    "    'schedulerRule': '/schedulers/rules',\n",
    "    'taxRetention': '/tax-retentions',\n",
    "    'taxStatus': '/tax-status',\n",
    "    'taxpayer': '/taxpayers',\n",
    "    'taxpayerGroup': '/taxpayer-groups',\n",
    "    'user': '/users',\n",
    "    'webServiceRequest': '/web-service-requests',\n",
    "    'webhookEndpoint': '/webhook-endpoints',\n",
    "    'webhookRequest': '/webhook-requests'\n",
    "    }\n"
   ]
  },
  {
   "cell_type": "code",
   "execution_count": 95,
   "metadata": {},
   "outputs": [],
   "source": [
    "http_request = {\n",
    "    \"url\": f\"https://api.satws.com/credentials/{id_client}\",\n",
    "    \"headers\": {\n",
    "        \"X-API-Key\": prod_api_url,\n",
    "        \"Content-Type\": \"application/json\"\n",
    "    }\n",
    "}"
   ]
  },
  {
   "cell_type": "code",
   "execution_count": 96,
   "metadata": {},
   "outputs": [
    {
     "name": "stdout",
     "output_type": "stream",
     "text": [
      "{\"message\":\"Forbidden\"}\n"
     ]
    }
   ],
   "source": [
    "http_response = get(**http_request)\n",
    "response = loads(http_response.text)\n",
    "print(http_response.text)\n"
   ]
  },
  {
   "cell_type": "code",
   "execution_count": 120,
   "metadata": {},
   "outputs": [],
   "source": [
    "import requests\n",
    "\n",
    "API_URLS = {\n",
    "    \"prod\": \"https://api.satws.com\",\n",
    "    \"test\": \"https://api.sandbox.satws.com\",\n",
    "}\n",
    "headers = {'X-API-Key': '3a5faf1c2155c2ded9ca82aafa1bfa49'}\n",
    "\n",
    "\n",
    "def get_all_credentials(env: str = \"prod\") -> DataFrame:\n",
    "    path_type = \"credentials\"\n",
    "    response = requests.get(f\"{API_URLS[env]}/{path_type}\", headers=headers)\n",
    "    parsed_response = loads(response.text)\n",
    "    return DataFrame(parsed_response[\"hydra:member\"])\n",
    "\n",
    "\n",
    "def get_credentials(_id=\"credentials\") -> DataFrame:\n",
    "    path_type = \"credentials\"\n",
    "    response = requests.get(f\"{API_URLS}/{path_type}\", headers=headers)\n",
    "    print(response.text)\n",
    "    parsed_response = loads(response.text)\n",
    "    return DataFrame(parsed_response[\"hydra:member\"])\n"
   ]
  },
  {
   "cell_type": "code",
   "execution_count": 118,
   "metadata": {},
   "outputs": [
    {
     "data": {
      "text/html": [
       "<div>\n",
       "<style scoped>\n",
       "    .dataframe tbody tr th:only-of-type {\n",
       "        vertical-align: middle;\n",
       "    }\n",
       "\n",
       "    .dataframe tbody tr th {\n",
       "        vertical-align: top;\n",
       "    }\n",
       "\n",
       "    .dataframe thead th {\n",
       "        text-align: right;\n",
       "    }\n",
       "</style>\n",
       "<table border=\"1\" class=\"dataframe\">\n",
       "  <thead>\n",
       "    <tr style=\"text-align: right;\">\n",
       "      <th></th>\n",
       "      <th>@id</th>\n",
       "      <th>@type</th>\n",
       "      <th>id</th>\n",
       "      <th>type</th>\n",
       "      <th>rfc</th>\n",
       "      <th>status</th>\n",
       "      <th>metadata</th>\n",
       "      <th>createdAt</th>\n",
       "      <th>updatedAt</th>\n",
       "    </tr>\n",
       "  </thead>\n",
       "  <tbody>\n",
       "    <tr>\n",
       "      <th>0</th>\n",
       "      <td>/credentials/9852142f-6a9e-4313-8eb9-20110fe33101</td>\n",
       "      <td>Credential</td>\n",
       "      <td>9852142f-6a9e-4313-8eb9-20110fe33101</td>\n",
       "      <td>ciec</td>\n",
       "      <td>MIGO010729SX9</td>\n",
       "      <td>valid</td>\n",
       "      <td>[]</td>\n",
       "      <td>2023-01-27 01:28:54</td>\n",
       "      <td>2023-01-27 01:29:04</td>\n",
       "    </tr>\n",
       "    <tr>\n",
       "      <th>1</th>\n",
       "      <td>/credentials/98521378-055a-4a85-aa24-62a4a6ff6e44</td>\n",
       "      <td>Credential</td>\n",
       "      <td>98521378-055a-4a85-aa24-62a4a6ff6e44</td>\n",
       "      <td>ciec</td>\n",
       "      <td>SAMS990714DN1</td>\n",
       "      <td>valid</td>\n",
       "      <td>[]</td>\n",
       "      <td>2023-01-27 01:26:54</td>\n",
       "      <td>2023-01-27 01:27:05</td>\n",
       "    </tr>\n",
       "    <tr>\n",
       "      <th>2</th>\n",
       "      <td>/credentials/9852134e-f056-4f6f-b081-9c8c36ee3a49</td>\n",
       "      <td>Credential</td>\n",
       "      <td>9852134e-f056-4f6f-b081-9c8c36ee3a49</td>\n",
       "      <td>ciec</td>\n",
       "      <td>MEAX800511V78</td>\n",
       "      <td>valid</td>\n",
       "      <td>[]</td>\n",
       "      <td>2023-01-27 01:26:27</td>\n",
       "      <td>2023-01-27 01:26:36</td>\n",
       "    </tr>\n",
       "    <tr>\n",
       "      <th>3</th>\n",
       "      <td>/credentials/98520d85-26ea-4084-bf4f-bf87f3fe4f3e</td>\n",
       "      <td>Credential</td>\n",
       "      <td>98520d85-26ea-4084-bf4f-bf87f3fe4f3e</td>\n",
       "      <td>ciec</td>\n",
       "      <td>RUMC810130FP2</td>\n",
       "      <td>valid</td>\n",
       "      <td>[]</td>\n",
       "      <td>2023-01-27 01:10:16</td>\n",
       "      <td>2023-01-27 01:10:25</td>\n",
       "    </tr>\n",
       "    <tr>\n",
       "      <th>4</th>\n",
       "      <td>/credentials/98520b90-c862-48b8-8f89-94ec32e5febb</td>\n",
       "      <td>Credential</td>\n",
       "      <td>98520b90-c862-48b8-8f89-94ec32e5febb</td>\n",
       "      <td>ciec</td>\n",
       "      <td>RIGC6106151I7</td>\n",
       "      <td>valid</td>\n",
       "      <td>[]</td>\n",
       "      <td>2023-01-27 01:04:48</td>\n",
       "      <td>2023-01-27 01:04:58</td>\n",
       "    </tr>\n",
       "  </tbody>\n",
       "</table>\n",
       "</div>"
      ],
      "text/plain": [
       "                                                 @id       @type  \\\n",
       "0  /credentials/9852142f-6a9e-4313-8eb9-20110fe33101  Credential   \n",
       "1  /credentials/98521378-055a-4a85-aa24-62a4a6ff6e44  Credential   \n",
       "2  /credentials/9852134e-f056-4f6f-b081-9c8c36ee3a49  Credential   \n",
       "3  /credentials/98520d85-26ea-4084-bf4f-bf87f3fe4f3e  Credential   \n",
       "4  /credentials/98520b90-c862-48b8-8f89-94ec32e5febb  Credential   \n",
       "\n",
       "                                     id  type            rfc status metadata  \\\n",
       "0  9852142f-6a9e-4313-8eb9-20110fe33101  ciec  MIGO010729SX9  valid       []   \n",
       "1  98521378-055a-4a85-aa24-62a4a6ff6e44  ciec  SAMS990714DN1  valid       []   \n",
       "2  9852134e-f056-4f6f-b081-9c8c36ee3a49  ciec  MEAX800511V78  valid       []   \n",
       "3  98520d85-26ea-4084-bf4f-bf87f3fe4f3e  ciec  RUMC810130FP2  valid       []   \n",
       "4  98520b90-c862-48b8-8f89-94ec32e5febb  ciec  RIGC6106151I7  valid       []   \n",
       "\n",
       "             createdAt            updatedAt  \n",
       "0  2023-01-27 01:28:54  2023-01-27 01:29:04  \n",
       "1  2023-01-27 01:26:54  2023-01-27 01:27:05  \n",
       "2  2023-01-27 01:26:27  2023-01-27 01:26:36  \n",
       "3  2023-01-27 01:10:16  2023-01-27 01:10:25  \n",
       "4  2023-01-27 01:04:48  2023-01-27 01:04:58  "
      ]
     },
     "execution_count": 118,
     "metadata": {},
     "output_type": "execute_result"
    }
   ],
   "source": [
    "get_all_credentials()"
   ]
  },
  {
   "cell_type": "code",
   "execution_count": 122,
   "metadata": {},
   "outputs": [
    {
     "name": "stdout",
     "output_type": "stream",
     "text": [
      "{\"@context\":\"\\/contexts\\/Credential\",\"@id\":\"\\/credentials\\/9852142f-6a9e-4313-8eb9-20110fe33101\",\"@type\":\"Credential\",\"id\":\"9852142f-6a9e-4313-8eb9-20110fe33101\",\"type\":\"ciec\",\"rfc\":\"MIGO010729SX9\",\"status\":\"valid\",\"metadata\":[],\"createdAt\":\"2023-01-27 01:28:54\",\"updatedAt\":\"2023-01-27 01:29:04\"}\n"
     ]
    },
    {
     "ename": "KeyError",
     "evalue": "'hydra:member'",
     "output_type": "error",
     "traceback": [
      "\u001b[1;31m---------------------------------------------------------------------------\u001b[0m",
      "\u001b[1;31mKeyError\u001b[0m                                  Traceback (most recent call last)",
      "Cell \u001b[1;32mIn[122], line 1\u001b[0m\n\u001b[1;32m----> 1\u001b[0m get_all_credentials(\u001b[39m\"\u001b[39;49m\u001b[39mcredentials/9852142f-6a9e-4313-8eb9-20110fe33101\u001b[39;49m\u001b[39m\"\u001b[39;49m)\n",
      "Cell \u001b[1;32mIn[120], line 11\u001b[0m, in \u001b[0;36mget_all_credentials\u001b[1;34m(path_type)\u001b[0m\n\u001b[0;32m      9\u001b[0m \u001b[39mprint\u001b[39m(response\u001b[39m.\u001b[39mtext)\n\u001b[0;32m     10\u001b[0m parsed_response \u001b[39m=\u001b[39m loads(response\u001b[39m.\u001b[39mtext)\n\u001b[1;32m---> 11\u001b[0m \u001b[39mreturn\u001b[39;00m DataFrame(parsed_response[\u001b[39m\"\u001b[39;49m\u001b[39mhydra:member\u001b[39;49m\u001b[39m\"\u001b[39;49m])\n",
      "\u001b[1;31mKeyError\u001b[0m: 'hydra:member'"
     ]
    }
   ],
   "source": [
    "get_all_credentials(\"credentials/9852142f-6a9e-4313-8eb9-20110fe33101\")\n"
   ]
  },
  {
   "cell_type": "code",
   "execution_count": null,
   "metadata": {},
   "outputs": [],
   "source": []
  }
 ],
 "metadata": {
  "kernelspec": {
   "display_name": "Python 3.9.13 ('sat-cracker-jAOW96i1')",
   "language": "python",
   "name": "python3"
  },
  "language_info": {
   "codemirror_mode": {
    "name": "ipython",
    "version": 3
   },
   "file_extension": ".py",
   "mimetype": "text/x-python",
   "name": "python",
   "nbconvert_exporter": "python",
   "pygments_lexer": "ipython3",
   "version": "3.9.13"
  },
  "orig_nbformat": 4,
  "vscode": {
   "interpreter": {
    "hash": "8a527f3e53f27aa19f16eec68c81d09ddc2f395c70e448fb8f48d8808e2c1a5b"
   }
  }
 },
 "nbformat": 4,
 "nbformat_minor": 2
}
